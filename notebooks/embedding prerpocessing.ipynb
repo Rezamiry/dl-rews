{
 "cells": [
  {
   "cell_type": "code",
   "execution_count": 1,
   "id": "f17fbbe1-b6f8-42a8-94e9-461d0894f6f4",
   "metadata": {},
   "outputs": [
    {
     "name": "stdout",
     "output_type": "stream",
     "text": [
      "The history saving thread hit an unexpected error (OperationalError('no such table: history')).History will not be written to the database.\n"
     ]
    }
   ],
   "source": [
    "# Python script to train a neural network using Keras library.\n",
    "\n",
    "import os\n",
    "import zipfile\n",
    "\n",
    "os.environ['KMP_DUPLICATE_LIB_OK']='True'\n",
    "\n",
    "import pandas\n",
    "import numpy as np\n",
    "import random\n",
    "import sys\n",
    "\n",
    "# from tensorflow.keras.models import Sequential\n",
    "# from tensorflow.keras.layers import Dense\n",
    "# from tensorflow.keras.layers import LSTM\n",
    "# from tensorflow.keras.layers import Dropout\n",
    "# from tensorflow.keras.layers import Conv1D\n",
    "# from tensorflow.keras.layers import MaxPooling1D\n",
    "\n",
    "# from tensorflow.keras.optimizers import Adam\n",
    "# from tensorflow.keras.models import load_model\n",
    "# from tensorflow.keras.callbacks import ModelCheckpoint\n",
    "from datetime import datetime\n",
    "\n",
    "# random.seed(datetime.now())\n",
    "random.seed(0)"
   ]
  },
  {
   "cell_type": "code",
   "execution_count": 3,
   "id": "8e3dba00-0fbd-44e9-a9c1-146f2e93d22c",
   "metadata": {},
   "outputs": [
    {
     "name": "stdout",
     "output_type": "stream",
     "text": [
      "Load in zip file containing training data\n",
      "Extract time series from zip file\n"
     ]
    }
   ],
   "source": [
    "# Set size of training library and length of time series\n",
    "(lib_size, ts_len) = (200000, 1500) # Or (500000, 500) for the 500-classifier\n",
    "\n",
    "model_type = 1\n",
    "if model_type==1:\n",
    "    pad_left = 225 if ts_len==500 else 725\n",
    "    pad_right = 225 if ts_len==500 else 725\n",
    "\n",
    "if model_type==2:\n",
    "    pad_left = 450 if ts_len==500 else 1450\n",
    "    pad_right = 0\n",
    "    \n",
    "\n",
    "# get zipfile of time series \n",
    "print('Load in zip file containing training data')\n",
    "zf = zipfile.ZipFile('../../training_data/output_full/ts_{}/combined/output_resids.zip'.format(ts_len))\n",
    "text_files = zf.infolist()\n",
    "sequences = list()\n",
    "\n",
    "\n",
    "print('Extract time series from zip file')\n",
    "tsid_vals = np.arange(1,lib_size+1)\n",
    "for tsid in tsid_vals:\n",
    "    df = pandas.read_csv(zf.open('output_resids/resids'+str(tsid)+'.csv'))\n",
    "    values = df[['Residuals']].values\n",
    "    sequences.append(values)\n",
    "\n",
    "sequences = np.array(sequences)\n",
    "\n",
    "# Get target labels for each data sample\n",
    "df_targets = pandas.read_csv('../../training_data/output_full/ts_{}/combined/labels.csv'.format(ts_len),\n",
    "                          index_col='sequence_ID')\n",
    "\n",
    "# train/validation/test split denotations\n",
    "df_groups = pandas.read_csv('../../training_data/output_full/ts_{}/combined/groups.csv'.format(ts_len),\n",
    "                            index_col='sequence_ID')\n"
   ]
  },
  {
   "cell_type": "code",
   "execution_count": null,
   "id": "2de93aaa-0530-4f33-b691-7cbcaa9ad33a",
   "metadata": {},
   "outputs": [],
   "source": []
  }
 ],
 "metadata": {
  "kernelspec": {
   "display_name": "venv",
   "language": "python",
   "name": "venv"
  },
  "language_info": {
   "codemirror_mode": {
    "name": "ipython",
    "version": 3
   },
   "file_extension": ".py",
   "mimetype": "text/x-python",
   "name": "python",
   "nbconvert_exporter": "python",
   "pygments_lexer": "ipython3",
   "version": "3.10.2"
  }
 },
 "nbformat": 4,
 "nbformat_minor": 5
}
