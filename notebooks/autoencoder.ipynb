{
 "cells": [
  {
   "cell_type": "code",
   "execution_count": 1,
   "id": "8953a3d8-bc56-4f84-a8cf-2326ae40fdd3",
   "metadata": {},
   "outputs": [],
   "source": [
    "# Python script to train a neural network using Keras library.\n",
    "import os\n",
    "import pickle\n",
    "import numpy as np\n",
    "import random\n",
    "import sys\n",
    "\n",
    "os.environ['KMP_DUPLICATE_LIB_OK']='True'\n",
    "os.environ['TF_CPP_MIN_LOG_LEVEL'] = '3'\n",
    "\n",
    "import tensorflow as tf\n",
    "from tensorflow.keras.models import Sequential\n",
    "from tensorflow.keras.layers import LSTM, RepeatVector, TimeDistributed, Dense\n",
    "from tensorflow.keras.optimizers import Adam"
   ]
  },
  {
   "cell_type": "code",
   "execution_count": 2,
   "id": "79a00bc4-ffb9-4261-bc2d-e0f1ba955c41",
   "metadata": {},
   "outputs": [],
   "source": [
    "# Define the number of features and timesteps you have\n",
    "n_features = 1  # replace with your number of features\n",
    "n_timesteps = 1500  # replace with the number of timesteps in your data\n",
    "\n",
    "# Define the encoder part\n",
    "encoder = Sequential()\n",
    "encoder.add(LSTM(256, activation='tanh', return_sequences=True, input_shape=(n_timesteps, n_features)))\n",
    "encoder.add(LSTM(128, activation='tanh'))\n",
    "encoder.add(Dense(1))  # The dense layer should output a single value\n",
    "\n",
    "# Define the decoder part\n",
    "decoder = Sequential()\n",
    "decoder.add(RepeatVector(n_timesteps))  # The number of repetitions should be the same as the number of timesteps\n",
    "decoder.add(LSTM(128, activation='tanh', return_sequences=True))\n",
    "decoder.add(LSTM(256, activation='tanh', return_sequences=True))\n",
    "decoder.add(TimeDistributed(Dense(n_features)))\n",
    "\n",
    "# Combine the encoder and decoder into one model\n",
    "autoencoder = Sequential([encoder, decoder])\n",
    "# Compile the model\n",
    "autoencoder.compile(optimizer=Adam(learning_rate=0.0001), loss='mse' )"
   ]
  },
  {
   "cell_type": "code",
   "execution_count": 3,
   "id": "c9bd379e-f9e1-41e3-910c-401a6e80c195",
   "metadata": {},
   "outputs": [
    {
     "name": "stdout",
     "output_type": "stream",
     "text": [
      "Model: \"sequential_2\"\n",
      "_________________________________________________________________\n",
      " Layer (type)                Output Shape              Param #   \n",
      "=================================================================\n",
      " sequential (Sequential)     (None, 1)                 461441    \n",
      "                                                                 \n",
      " sequential_1 (Sequential)   (None, 1500, 1)           461057    \n",
      "                                                                 \n",
      "=================================================================\n",
      "Total params: 922,498\n",
      "Trainable params: 922,498\n",
      "Non-trainable params: 0\n",
      "_________________________________________________________________\n"
     ]
    }
   ],
   "source": [
    "autoencoder.summary()"
   ]
  },
  {
   "cell_type": "code",
   "execution_count": 4,
   "id": "51c0d27f-8ce2-4f18-851b-3869d308329c",
   "metadata": {},
   "outputs": [],
   "source": [
    "with open(\"../preproccessed_data.pickle\", 'rb') as f:\n",
    "    data = pickle.load(f)\n",
    "    \n",
    "train_censored = data['train']\n",
    "# train_target = data['train_target']\n",
    "validation_censored = data['validation']\n",
    "# validation_target = data['validation_target']\n",
    "# test = data['test']\n",
    "# test_target = data['test_target'"
   ]
  },
  {
   "cell_type": "code",
   "execution_count": 5,
   "id": "134afcaa-9733-4742-b566-9296d495f421",
   "metadata": {},
   "outputs": [],
   "source": [
    "with open(\"../preproccessed_data_uncensored.pickle\", 'rb') as f:\n",
    "    data = pickle.load(f)\n",
    "    \n",
    "train_uncensored = data['train']\n",
    "# train_target = data['train_target']\n",
    "validation_uncensored = data['validation']\n",
    "# validation_target = data['validation_target']\n",
    "# test = data['test']\n",
    "# test_target = data['test_target']"
   ]
  },
  {
   "cell_type": "code",
   "execution_count": null,
   "id": "1061608e-0b53-43c6-b7ff-216d2f37921c",
   "metadata": {
    "tags": []
   },
   "outputs": [
    {
     "name": "stdout",
     "output_type": "stream",
     "text": [
      "Epoch 1/10\n",
      "1485/1485 [==============================] - 822s 545ms/step - loss: 0.0108\n",
      "Epoch 2/10\n",
      "1485/1485 [==============================] - 809s 545ms/step - loss: 0.0108\n",
      "Epoch 3/10\n",
      "1485/1485 [==============================] - 808s 544ms/step - loss: 0.0108\n",
      "Epoch 4/10\n",
      "1485/1485 [==============================] - 809s 544ms/step - loss: 0.0108\n",
      "Epoch 5/10\n",
      "1485/1485 [==============================] - 808s 544ms/step - loss: 0.0108\n",
      "Epoch 6/10\n",
      " 261/1485 [====>.........................] - ETA: 11:05 - loss: 0.0046"
     ]
    }
   ],
   "source": [
    "# Assume X_train_censored is your censored training data and X_train_uncensored is your uncensored training data\n",
    "# Both should be 3D numpy arrays of shape (samples, timesteps, features) , validation_data=(validation_censored,validation_uncensored),\n",
    "autoencoder.fit(np.array(train_censored), np.array(train_uncensored), epochs=10, batch_size=128, verbose=1)"
   ]
  },
  {
   "cell_type": "code",
   "execution_count": null,
   "id": "1bf71ef4-e66e-4a81-9657-76df785746bd",
   "metadata": {},
   "outputs": [],
   "source": []
  }
 ],
 "metadata": {
  "kernelspec": {
   "display_name": "venv",
   "language": "python",
   "name": "venv"
  },
  "language_info": {
   "codemirror_mode": {
    "name": "ipython",
    "version": 3
   },
   "file_extension": ".py",
   "mimetype": "text/x-python",
   "name": "python",
   "nbconvert_exporter": "python",
   "pygments_lexer": "ipython3",
   "version": "3.10.2"
  }
 },
 "nbformat": 4,
 "nbformat_minor": 5
}
